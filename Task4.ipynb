{
 "cells": [
  {
   "cell_type": "code",
   "execution_count": 58,
   "id": "3791c63e",
   "metadata": {},
   "outputs": [],
   "source": [
    "import networkx as nx"
   ]
  },
  {
   "cell_type": "code",
   "execution_count": 59,
   "id": "722aa349",
   "metadata": {},
   "outputs": [],
   "source": [
    "## undirect graph\n",
    "UG = nx.Graph()"
   ]
  },
  {
   "cell_type": "code",
   "execution_count": 60,
   "id": "90ef28f8",
   "metadata": {},
   "outputs": [],
   "source": [
    "UG.add_nodes_from(['a','b','c','d','e'])"
   ]
  },
  {
   "cell_type": "code",
   "execution_count": 61,
   "id": "6ffa97e2",
   "metadata": {},
   "outputs": [],
   "source": [
    "UG.add_edges_from([('a','b'),('c','d'),('a','d'),('a','e'),('b','e')])"
   ]
  },
  {
   "cell_type": "code",
   "execution_count": 64,
   "id": "d484380c",
   "metadata": {},
   "outputs": [
    {
     "data": {
      "image/png": "[encoded data removed]",
      "text/plain": [
       "<Figure size 432x288 with 1 Axes>"
      ]
     },
     "metadata": {},
     "output_type": "display_data"
    }
   ],
   "source": [
    "nx.draw(UG,with_labels=True,font_color=\"Black\",node_color=\"Red\",node_size=2000,font_size=50)"
   ]
  },
  {
   "cell_type": "code",
   "execution_count": 65,
   "id": "7fe5d3fe",
   "metadata": {},
   "outputs": [
    {
     "data": {
      "text/plain": [
       "NodeView(('a', 'b', 'c', 'd', 'e'))"
      ]
     },
     "execution_count": 65,
     "metadata": {},
     "output_type": "execute_result"
    }
   ],
   "source": [
    "UG.nodes()"
   ]
  },
  {
   "cell_type": "code",
   "execution_count": 66,
   "id": "2afc7232",
   "metadata": {},
   "outputs": [
    {
     "data": {
      "text/plain": [
       "EdgeView([('a', 'b'), ('a', 'd'), ('a', 'e'), ('b', 'e'), ('c', 'd')])"
      ]
     },
     "execution_count": 66,
     "metadata": {},
     "output_type": "execute_result"
    }
   ],
   "source": [
    "UG.edges()"
   ]
  },
  {
   "cell_type": "code",
   "execution_count": 67,
   "id": "8c444028",
   "metadata": {},
   "outputs": [
    {
     "data": {
      "text/plain": [
       "5"
      ]
     },
     "execution_count": 67,
     "metadata": {},
     "output_type": "execute_result"
    }
   ],
   "source": [
    "UG.number_of_nodes()"
   ]
  },
  {
   "cell_type": "code",
   "execution_count": 68,
   "id": "4180bc46",
   "metadata": {},
   "outputs": [
    {
     "data": {
      "text/plain": [
       "5"
      ]
     },
     "execution_count": 68,
     "metadata": {},
     "output_type": "execute_result"
    }
   ],
   "source": [
    "UG.number_of_edges()"
   ]
  },
  {
   "cell_type": "code",
   "execution_count": 69,
   "id": "5eff6182",
   "metadata": {},
   "outputs": [
    {
     "data": {
      "text/plain": [
       "<dict_keyiterator at 0x19008d45630>"
      ]
     },
     "execution_count": 69,
     "metadata": {},
     "output_type": "execute_result"
    }
   ],
   "source": [
    "UG.neighbors('e')"
   ]
  },
  {
   "cell_type": "code",
   "execution_count": 70,
   "id": "67a6dab5",
   "metadata": {},
   "outputs": [
    {
     "data": {
      "text/plain": [
       "False"
      ]
     },
     "execution_count": 70,
     "metadata": {},
     "output_type": "execute_result"
    }
   ],
   "source": [
    "nx.is_tree(UG)"
   ]
  },
  {
   "cell_type": "code",
   "execution_count": 72,
   "id": "f21bc659",
   "metadata": {},
   "outputs": [
    {
     "data": {
      "text/plain": [
       "True"
      ]
     },
     "execution_count": 72,
     "metadata": {},
     "output_type": "execute_result"
    }
   ],
   "source": [
    "nx.is_connected(UG)"
   ]
  },
  {
   "cell_type": "code",
   "execution_count": 73,
   "id": "22aeb2fa",
   "metadata": {},
   "outputs": [
    {
     "data": {
      "text/plain": [
       "True"
      ]
     },
     "execution_count": 73,
     "metadata": {},
     "output_type": "execute_result"
    }
   ],
   "source": [
    "UG.has_node('a')"
   ]
  },
  {
   "cell_type": "code",
   "execution_count": 74,
   "id": "0b9ebd65",
   "metadata": {},
   "outputs": [
    {
     "data": {
      "text/plain": [
       "True"
      ]
     },
     "execution_count": 74,
     "metadata": {},
     "output_type": "execute_result"
    }
   ],
   "source": [
    "UG.has_edge('a','b')"
   ]
  },
  {
   "cell_type": "code",
   "execution_count": 75,
   "id": "bcc4bd7b",
   "metadata": {},
   "outputs": [
    {
     "data": {
      "text/plain": [
       "3"
      ]
     },
     "execution_count": 75,
     "metadata": {},
     "output_type": "execute_result"
    }
   ],
   "source": [
    "UG.degree('a')"
   ]
  },
  {
   "cell_type": "code",
   "execution_count": 86,
   "id": "aa7f792e",
   "metadata": {},
   "outputs": [],
   "source": [
    "## direct graph\n",
    "DG =nx.DiGraph()"
   ]
  },
  {
   "cell_type": "code",
   "execution_count": 87,
   "id": "8a8a2fcb",
   "metadata": {},
   "outputs": [],
   "source": [
    "DG.add_nodes_from(['a','b','c','d','e'])"
   ]
  },
  {
   "cell_type": "code",
   "execution_count": 88,
   "id": "8769987b",
   "metadata": {},
   "outputs": [],
   "source": [
    "DG.add_edges_from([('a','b'),('c','d'),('a','d'),('a','e'),('b','e')])"
   ]
  },
  {
   "cell_type": "code",
   "execution_count": 89,
   "id": "9b505127",
   "metadata": {},
   "outputs": [
    {
     "data": {
      "image/png": "[encoded data removed]",
      "text/plain": [
       "<Figure size 432x288 with 1 Axes>"
      ]
     },
     "metadata": {},
     "output_type": "display_data"
    }
   ],
   "source": [
    "nx.draw(DG,with_labels=True,font_color=\"Black\",node_color=\"Red\",node_size=1500,font_size=30)"
   ]
  },
  {
   "cell_type": "code",
   "execution_count": null,
   "id": "c6c24bf7",
   "metadata": {},
   "outputs": [],
   "source": []
  }
 ],
 "metadata": {
  "kernelspec": {
   "display_name": "Python 3 (ipykernel)",
   "language": "python",
   "name": "python3"
  },
  "language_info": {
   "codemirror_mode": {
    "name": "ipython",
    "version": 3
   },
   "file_extension": ".py",
   "mimetype": "text/x-python",
   "name": "python",
   "nbconvert_exporter": "python",
   "pygments_lexer": "ipython3",
   "version": "3.9.7"
  }
 },
 "nbformat": 4,
 "nbformat_minor": 5
}
