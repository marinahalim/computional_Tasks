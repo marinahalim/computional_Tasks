{
 "cells": [
  {
   "cell_type": "code",
   "execution_count": 2,
   "id": "6fb17918",
   "metadata": {},
   "outputs": [],
   "source": [
    "import cobra"
   ]
  },
  {
   "cell_type": "code",
   "execution_count": 3,
   "id": "a1c2d47d",
   "metadata": {},
   "outputs": [],
   "source": [
    "from cobra import Model ,Reaction , Metabolite "
   ]
  },
  {
   "cell_type": "code",
   "execution_count": 4,
   "id": "c0421240",
   "metadata": {},
   "outputs": [],
   "source": [
    "################################################  model \n",
    "my_model  = Model(\"my_model\")"
   ]
  },
  {
   "cell_type": "code",
   "execution_count": 5,
   "id": "b04089f8",
   "metadata": {},
   "outputs": [],
   "source": [
    "############################################### Reaction\n",
    "\n",
    "#Reaction of     (A========>)\n",
    "v0 = Reaction (\"v0\")\n",
    "v0.name=\"v0\"\n",
    "v0.lower_bound=1\n",
    "v0.upper_bound=1\n",
    "\n",
    "#Reaction between (A ========> B)\n",
    "v1 = Reaction (\"v1\")\n",
    "v1.name=\"v1\"\n",
    "v1.lower_bound=0\n",
    "v1.upper_bound=1000\n",
    "\n",
    "#Reaction between (B ========>C)\n",
    "v2 = Reaction (\"v2\")\n",
    "v2.name=\"v2\"\n",
    "v2.lower_bound=0\n",
    "v2.upper_bound=1000\n",
    "\n",
    "#Reaction between (C ========>)\n",
    "v_out = Reaction (\"v_out\")\n",
    "v_out.name=\"v_out\"\n",
    "v_out.lower_bound=0\n",
    "v_out.upper_bound=1000\n",
    "\n",
    "#Reaction between (A ========>ATP)\n",
    "v3 = Reaction (\"v3\")\n",
    "v3.name=\"v3\"\n",
    "v3.lower_bound=.9\n",
    "v3.upper_bound=.9\n",
    "\n",
    "#Reaction between (ATP ========>)\n",
    "v4 = Reaction (\"v4\")\n",
    "v4.name=\"v4\"\n",
    "v4.lower_bound=0\n",
    "v4.upper_bound=1000"
   ]
  },
  {
   "cell_type": "code",
   "execution_count": 6,
   "id": "d72be6d4",
   "metadata": {},
   "outputs": [],
   "source": [
    "###################################################### Metabolites\n",
    "A=Metabolite(\"A\",compartment='C')\n",
    "B=Metabolite(\"B\",compartment='C')\n",
    "C=Metabolite(\"C\",compartment='C')\n",
    "ATP=Metabolite(\"ATP\",compartment='C')"
   ]
  },
  {
   "cell_type": "code",
   "execution_count": 7,
   "id": "cc61e821",
   "metadata": {},
   "outputs": [],
   "source": [
    "##################################################### add Metabolite in Reaction\n",
    "v0.add_metabolites({A:1})\n",
    "v1.add_metabolites({A:-1,B:1})\n",
    "v2.add_metabolites({B:-1,C:1})\n",
    "v_out.add_metabolites({C:-1})\n",
    "v3.add_metabolites({A:-1,ATP:1})\n",
    "v4.add_metabolites({ATP:-1})"
   ]
  },
  {
   "cell_type": "code",
   "execution_count": 8,
   "id": "41761e20",
   "metadata": {},
   "outputs": [],
   "source": [
    "####################################################  add Reaction in Model\n",
    "my_model.add_reactions([v0,v1,v2,v_out,v3,v4])"
   ]
  },
  {
   "cell_type": "code",
   "execution_count": 9,
   "id": "7e9388d2",
   "metadata": {},
   "outputs": [],
   "source": [
    "my_model.objective='v_out'"
   ]
  },
  {
   "cell_type": "code",
   "execution_count": 10,
   "id": "f1fad051",
   "metadata": {},
   "outputs": [
    {
     "data": {
      "text/html": [
       "<strong><em>Optimal</em> solution with objective value 0.100</strong><br><div>\n",
       "<style scoped>\n",
       "    .dataframe tbody tr th:only-of-type {\n",
       "        vertical-align: middle;\n",
       "    }\n",
       "\n",
       "    .dataframe tbody tr th {\n",
       "        vertical-align: top;\n",
       "    }\n",
       "\n",
       "    .dataframe thead th {\n",
       "        text-align: right;\n",
       "    }\n",
       "</style>\n",
       "<table border=\"1\" class=\"dataframe\">\n",
       "  <thead>\n",
       "    <tr style=\"text-align: right;\">\n",
       "      <th></th>\n",
       "      <th>fluxes</th>\n",
       "      <th>reduced_costs</th>\n",
       "    </tr>\n",
       "  </thead>\n",
       "  <tbody>\n",
       "    <tr>\n",
       "      <th>v0</th>\n",
       "      <td>1.0</td>\n",
       "      <td>2.0</td>\n",
       "    </tr>\n",
       "    <tr>\n",
       "      <th>v1</th>\n",
       "      <td>0.1</td>\n",
       "      <td>0.0</td>\n",
       "    </tr>\n",
       "    <tr>\n",
       "      <th>v2</th>\n",
       "      <td>0.1</td>\n",
       "      <td>0.0</td>\n",
       "    </tr>\n",
       "    <tr>\n",
       "      <th>v_out</th>\n",
       "      <td>0.1</td>\n",
       "      <td>0.0</td>\n",
       "    </tr>\n",
       "    <tr>\n",
       "      <th>v3</th>\n",
       "      <td>0.9</td>\n",
       "      <td>-2.0</td>\n",
       "    </tr>\n",
       "    <tr>\n",
       "      <th>v4</th>\n",
       "      <td>0.9</td>\n",
       "      <td>0.0</td>\n",
       "    </tr>\n",
       "  </tbody>\n",
       "</table>\n",
       "</div>"
      ],
      "text/plain": [
       "<Solution 0.100 at 0x25d2bc38f10>"
      ]
     },
     "execution_count": 10,
     "metadata": {},
     "output_type": "execute_result"
    }
   ],
   "source": [
    "my_model.optimize()"
   ]
  },
  {
   "cell_type": "code",
   "execution_count": 11,
   "id": "fe7f0dda",
   "metadata": {},
   "outputs": [
    {
     "data": {
      "text/html": [
       "<h3>Objective</h3><p>1.0 v_out = 0.09999999999999998</p><h4>Uptake</h4><table border=\"1\" class=\"dataframe\">\n",
       "  <thead>\n",
       "    <tr style=\"text-align: right;\">\n",
       "      <th>Metabolite</th>\n",
       "      <th>Reaction</th>\n",
       "      <th>Flux</th>\n",
       "      <th>C-Number</th>\n",
       "      <th>C-Flux</th>\n",
       "    </tr>\n",
       "  </thead>\n",
       "  <tbody>\n",
       "    <tr>\n",
       "      <td>A</td>\n",
       "      <td>v0</td>\n",
       "      <td>1</td>\n",
       "      <td>0</td>\n",
       "      <td>0.00%</td>\n",
       "    </tr>\n",
       "  </tbody>\n",
       "</table><h4>Secretion</h4><table border=\"1\" class=\"dataframe\">\n",
       "  <thead>\n",
       "    <tr style=\"text-align: right;\">\n",
       "      <th>Metabolite</th>\n",
       "      <th>Reaction</th>\n",
       "      <th>Flux</th>\n",
       "      <th>C-Number</th>\n",
       "      <th>C-Flux</th>\n",
       "    </tr>\n",
       "  </thead>\n",
       "  <tbody>\n",
       "    <tr>\n",
       "      <td>ATP</td>\n",
       "      <td>v4</td>\n",
       "      <td>-0.9</td>\n",
       "      <td>0</td>\n",
       "      <td>0.00%</td>\n",
       "    </tr>\n",
       "    <tr>\n",
       "      <td>C</td>\n",
       "      <td>v_out</td>\n",
       "      <td>-0.1</td>\n",
       "      <td>0</td>\n",
       "      <td>0.00%</td>\n",
       "    </tr>\n",
       "  </tbody>\n",
       "</table>"
      ],
      "text/plain": [
       "<cobra.summary.model_summary.ModelSummary at 0x25d2bc5f5e0>"
      ]
     },
     "execution_count": 11,
     "metadata": {},
     "output_type": "execute_result"
    }
   ],
   "source": [
    "my_model.summary()"
   ]
  },
  {
   "cell_type": "code",
   "execution_count": 12,
   "id": "8a106a47",
   "metadata": {},
   "outputs": [],
   "source": [
    "cobra.io.save_json_model(my_model,\"marinahalim_1.json\")"
   ]
  },
  {
   "cell_type": "code",
   "execution_count": 13,
   "id": "cfba5d07",
   "metadata": {},
   "outputs": [],
   "source": [
    "import escher"
   ]
  },
  {
   "cell_type": "code",
   "execution_count": 14,
   "id": "b6e6830f",
   "metadata": {},
   "outputs": [],
   "source": [
    "from escher import Builder"
   ]
  },
  {
   "cell_type": "code",
   "execution_count": 15,
   "id": "dc369140",
   "metadata": {},
   "outputs": [],
   "source": [
    "builder=Builder()"
   ]
  },
  {
   "cell_type": "code",
   "execution_count": 16,
   "id": "3777a0bd",
   "metadata": {},
   "outputs": [
    {
     "data": {
      "application/vnd.jupyter.widget-view+json": {
       "model_id": "bdb4cbd104cc4e37baca2b38c91897bd",
       "version_major": 2,
       "version_minor": 0
      },
      "text/plain": [
       "Builder()"
      ]
     },
     "metadata": {},
     "output_type": "display_data"
    }
   ],
   "source": [
    "builder\n"
   ]
  },
  {
   "cell_type": "code",
   "execution_count": null,
   "id": "48b80c93",
   "metadata": {},
   "outputs": [],
   "source": []
  }
 ],
 "metadata": {
  "kernelspec": {
   "display_name": "Python 3 (ipykernel)",
   "language": "python",
   "name": "python3"
  },
  "language_info": {
   "codemirror_mode": {
    "name": "ipython",
    "version": 3
   },
   "file_extension": ".py",
   "mimetype": "text/x-python",
   "name": "python",
   "nbconvert_exporter": "python",
   "pygments_lexer": "ipython3",
   "version": "3.9.7"
  }
 },
 "nbformat": 4,
 "nbformat_minor": 5
}
